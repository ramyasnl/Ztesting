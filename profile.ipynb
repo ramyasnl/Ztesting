{
  "nbformat": 4,
  "nbformat_minor": 0,
  "metadata": {
    "colab": {
      "name": "profile.ipynb",
      "provenance": [],
      "authorship_tag": "ABX9TyNvaL9+/V2OTRD6wAGaOVIG",
      "include_colab_link": true
    },
    "kernelspec": {
      "name": "python3",
      "display_name": "Python 3"
    },
    "language_info": {
      "name": "python"
    }
  },
  "cells": [
    {
      "cell_type": "markdown",
      "metadata": {
        "id": "view-in-github",
        "colab_type": "text"
      },
      "source": [
        "<a href=\"https://colab.research.google.com/github/ramyasnl/Ztesting/blob/master/profile.ipynb\" target=\"_parent\"><img src=\"https://colab.research.google.com/assets/colab-badge.svg\" alt=\"Open In Colab\"/></a>"
      ]
    },
    {
      "cell_type": "markdown",
      "metadata": {
        "id": "ptS64Q1I6XVx"
      },
      "source": [
        "#Hi there, I'm RAMYA  👋\n",
        "Website Twitter Follow\n",
        "\n",
        "## I'm a Homemaker, MOM, Developer, and Teacher!!!\n",
        "<img src=\"https://brand.berkeley.edu/wp-content/uploads/2016/10/ucbseal_139_540.png\" width=\"30\" height=\"30\" /> I just finished my Bootcamp in Data Analytics Certified by University Of California Berkeley!! </br>\n",
        "🌱 I’m currently learning everything 🤣</br>\n",
        "👯 I’m looking to collaborate with other content creators</br>\n",
        "🥅 2021 Goals: Contribute more to Open Source projects</br>\n",
        "⚡ Fun fact: I love to bike and listen to music </br>\n",
        "Connect with me:</br>\n",
        "codeSTACKr.comcodeSTACKr | YouTubecodeSTACKr | TwittercodeSTACKr | LinkedIncodeSTACKr | Instagram\n",
        "\n",
        "\n",
        "Languages and Tools:</br>\n",
        "Visual Studio Code HTML5CSS3SassJavaScriptReactGatsbyGraphQLNode.jsDenoSQLMySQLMongoDBGitGitHubTerminal\n",
        "\n",
        "\n",
        "\n",
        "📺 Latest YouTube Videos\n",
        "⭐ BONUS: STACKr News Shorts - 5 Things Better in Svelte than React\n",
        "- Bootcamp Graduate Advice 💪, Who's the CSS King? 👑, GitHub Copilot 🤖 // - STACKr News Weekly - Issue 5\n",
        "VS Code Has Dev Tools & Console!! No Need For Chrome Anymore 👋\n",
        "STACKr News Shorts - Issue 4 - Syntax.fm Potluck\n",
        "VS Code has Browser Dev Tools and Built-in JavaScript Debugging!!\n",
        "➡️ more videos...\n",
        "\n",
        "📕 Latest Blog Posts\n",
        "How To Pass Application Tracking Systems (ATS) & Get Interviews - Resume Tips for Software Developer\n",
        "Microinteractions: Password Validation Animation\n",
        "Notion + YouTube - A Powerful Combination for Productivity\n",
        "Regular Expressions (RegEx) Crash Course\n",
        "Emmet Part 2 - Advanced\n",
        "➡️ more blog posts...\n",
        "\n",
        "⚡ Recent GitHub Activity\n",
        "⚡ GitHub Stats\n",
        "About\n",
        "No description, website, or topics provided.\n",
        "Resources\n",
        " Readme\n",
        "Releases\n",
        "No releases published\n",
        "Packages\n",
        "No packages published\n",
        "Contributors 4\n",
        "@codeSTACKr\n",
        "codeSTACKr Jesse Hall\n",
        "@github-actions[bot]\n",
        "github-actions[bot]\n",
        "@friederbluemle\n",
        "friederbluemle Frieder Bluemle\n",
        "@Alan-Cha\n",
        "Alan-Cha Alan Cha\n",
        "© 2021 GitHub, Inc."
      ]
    },
    {
      "cell_type": "markdown",
      "metadata": {
        "id": "XW8QYRaNA8Yd"
      },
      "source": [
        "🔭"
      ]
    }
  ]
}